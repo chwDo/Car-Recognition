{
 "cells": [
  {
   "cell_type": "code",
   "execution_count": 1,
   "id": "continent-suite",
   "metadata": {},
   "outputs": [],
   "source": [
    "import cv2\n",
    "from copy import copy\n",
    "import os\n",
    "from tqdm import tqdm\n",
    "import json\n",
    "import matplotlib.pyplot as plt\n",
    "import math \n",
    "import numpy as np\n",
    "import random\n",
    "from skimage.feature import hog\n",
    "from sklearn.model_selection import train_test_split\n",
    "from sklearn.svm import LinearSVC\n",
    "from sklearn import metrics\n",
    "from scipy.ndimage.measurements import label\n",
    "from sklearn.preprocessing import RobustScaler"
   ]
  },
  {
   "cell_type": "code",
   "execution_count": 2,
   "id": "floral-awareness",
   "metadata": {},
   "outputs": [],
   "source": [
    "def retrive_data(noncar_size = 20):\n",
    "    \n",
    "    sup_path = './benchmark_velocity_supp/'\n",
    "    folder_sup = os.listdir(sup_path)\n",
    "    with open(os.path.join(sup_path,'annotation.json'),'r') as f:\n",
    "        gt = json.load(f)\n",
    "    f.close()\n",
    "    imgs = []\n",
    "    cars = []\n",
    "    nocars = []\n",
    "    #img_count=0\n",
    "    for i in tqdm(gt):\n",
    "        subset = i\n",
    "        img = cv2.imread(os.path.join(sup_path ,subset['file_name']))\n",
    "        imgs.append(img)\n",
    "        aim = subset['bbox']\n",
    "        coordinates = []\n",
    "        for j in aim:\n",
    "            left = int(j['left'])\n",
    "            top = int(j['top'])\n",
    "            bottom = int(j['bottom'])\n",
    "            right = int(j['right'])\n",
    "            car_img = img[top:bottom,left:right]\n",
    "            if car_img.size:\n",
    "                coordinates.append([(top - 32,bottom + 32),(left - 32,right + 32)])\n",
    "                img_resized = cv2.resize(car_img,(64, 64),interpolation = cv2.INTER_CUBIC)\n",
    "                cars.append(img_resized)\n",
    "        count = 0\n",
    "        while(count<noncar_size):\n",
    "            h = random.randint(270,685) # prevent out of range\n",
    "            v = random.randint(32,1230)\n",
    "            for c in coordinates:\n",
    "                if h in range(c[0][0],c[0][1]) and v in range(c[1][0],c[1][1]):\n",
    "                    break\n",
    "                else:\n",
    "                    nocars.append(img[h-32:h+32,v-32:v+32])\n",
    "                    #imgname = \"./non-vehicles/noncars/\"+\"noncar_img_\"+str(img_count)+\".jpg\"\n",
    "                    #cv2.imwrite(imgname, img[h-32:h+32,v-32:v+32])\n",
    "                    count += 1\n",
    "                    #img_count += 1\n",
    "\n",
    "# Read from processed images\n",
    "#     nocars=[]\n",
    "#     nocars_path = \"./non-vehicles/noncars/\"\n",
    "#     for _, _, imgs in tqdm(os.walk(nocars_path)):\n",
    "#         for img_name in imgs:\n",
    "#             if img_name != '.DS_Store':\n",
    "#                 img_path = nocars_path + img_name\n",
    "#                 file = cv2.imread(img_path)\n",
    "#                 nocars.append(file)\n",
    "    \n",
    "    return imgs, cars, nocars"
   ]
  },
  {
   "cell_type": "code",
   "execution_count": 3,
   "id": "acting-archives",
   "metadata": {},
   "outputs": [],
   "source": [
    "def retrive_features(imgs, hist_bins = 32, spatial_size = (16,16), hog_orientations = 9, hog_pixels_per_cell = (8, 8), hog_cells_per_block = (1, 1)):\n",
    "    img_features = []\n",
    "    \n",
    "    for i in tqdm(imgs):\n",
    "        img = cv2.cvtColor(i,cv2.COLOR_BGR2YCrCb)\n",
    "        # extract color hist features\n",
    "        channel1 = np.histogram(img[:, :, 0],bins=hist_bins)\n",
    "        channel2 = np.histogram(img[:, :, 1],bins=hist_bins)\n",
    "        channel3 = np.histogram(img[:, :, 2],bins=hist_bins)\n",
    "        hist_feature = np.concatenate((channel1[0], channel2[0], channel3[0]))\n",
    "        \n",
    "        # extract spatial features\n",
    "        spatial_features = cv2.resize(img,spatial_size).ravel()\n",
    "        \n",
    "        # extract hog features\n",
    "        hog_feature = hog(img, orientations=hog_orientations, pixels_per_cell=hog_pixels_per_cell,\n",
    "                          cells_per_block=hog_cells_per_block, visualize=False,feature_vector=True)\n",
    "        \n",
    "        img_features.append(np.concatenate((hist_feature, spatial_features, hog_feature)))\n",
    "    return img_features"
   ]
  },
  {
   "cell_type": "code",
   "execution_count": 4,
   "id": "numerical-imagination",
   "metadata": {},
   "outputs": [],
   "source": [
    "def train(car_features,nocars_features, random_state=0):\n",
    "    #print(type(car_features),len(car_features))\n",
    "    #print(type(nocars_features),len(nocars_features))\n",
    "    x = np.vstack((car_features, nocars_features))\n",
    "    #print(type(x),x.shape)\n",
    "    y = np.hstack((np.ones(len(car_features)), np.zeros(len(nocars_features))))\n",
    "    scaler = RobustScaler().fit(x)\n",
    "    x = scaler.transform(x)\n",
    "    x_train, x_test, y_train, y_test = train_test_split(x, y, test_size=0.2, random_state=0)\n",
    "    svc = LinearSVC()\n",
    "    svc.fit(x_train, y_train)\n",
    "    predict = svc.predict(x_test)\n",
    "    accuracy = metrics.accuracy_score(y_test,predict)\n",
    "    recall = metrics.recall_score(y_test,predict,average='macro')\n",
    "    print(f\"Accuracy:{accuracy:0.3f}\\t Recall:{recall:0.3f}\")\n",
    "    print(\"SVM\")\n",
    "    print(metrics.confusion_matrix(y_test,predict))\n",
    "    return svc,scaler"
   ]
  },
  {
   "cell_type": "code",
   "execution_count": 5,
   "id": "handed-luxury",
   "metadata": {},
   "outputs": [],
   "source": [
    "def slide_window(img, window_size=(64, 64), overlap=0.5):\n",
    "    step = window_size[0] * (1 - overlap)\n",
    "    number_of_window_x = int((img.shape[1] - window_size[0] * overlap) / step)\n",
    "    number_of_window_y = int((img.shape[0] - window_size[1] * overlap) / step)\n",
    "    windows = []\n",
    "    for y in range(number_of_window_y):\n",
    "        for x in range(number_of_window_x):\n",
    "            startx = int(x * step)\n",
    "            starty = int(y * step) + 270\n",
    "            # change the window size based on distance \n",
    "            if starty+window_size[0]*2.5 <= img.shape[0]:\n",
    "                if starty < 400:\n",
    "                    endy = starty + window_size[1]\n",
    "                    endx = startx + window_size[0]\n",
    "                    windows.append(((startx, starty), (endx, endy)))\n",
    "                elif starty >= 400 and starty < 432:\n",
    "                    endy = int(starty + window_size[1]*1.5)\n",
    "                    endx = int(startx + window_size[0]*1.5)\n",
    "                    windows.append(((startx, starty), (endx, endy)))\n",
    "                elif starty >= 432 and starty < 448:\n",
    "                    endy = starty + window_size[1]*2\n",
    "                    endx = startx + window_size[0]*2\n",
    "                    windows.append(((startx, starty), (endx, endy)))\n",
    "                elif starty >= 448 and starty < 500:\n",
    "                    endy = int(starty + window_size[1]*2.5)\n",
    "                    endx = int(startx + window_size[0]*2.5)\n",
    "                    windows.append(((startx, starty), (endx, endy)))\n",
    "            \n",
    "    return windows\n",
    "\n",
    "def search(img, windows, clf,scaler,hist_bins = 32, spatial_size = (16,16), hog_orientations = 9, hog_pixels_per_cell = (8, 8), hog_cells_per_block = (1, 1)):\n",
    "    result = []\n",
    "    #features = []\n",
    "    for window in windows:\n",
    "        img_small = img[window[0][1]:window[1][1], window[0][0]:window[1][0]]\n",
    "        if img_small.size:\n",
    "            img_small = cv2.resize(img_small, (64, 64))\n",
    "            img_small = cv2.cvtColor(img_small,cv2.COLOR_BGR2YCrCb)\n",
    "            \n",
    "            # extract color hist features\n",
    "            channel1 = np.histogram(img_small[:, :, 0],bins=hist_bins)\n",
    "            channel2 = np.histogram(img_small[:, :, 1],bins=hist_bins)\n",
    "            channel3 = np.histogram(img_small[:, :, 2],bins=hist_bins)\n",
    "            hist_feature = np.concatenate((channel1[0], channel2[0], channel3[0]))\n",
    "\n",
    "            # extract spatial features\n",
    "            spatial_features = cv2.resize(img_small,spatial_size).ravel()\n",
    "\n",
    "            # extract hog features\n",
    "            hog_feature = hog(img_small, orientations=hog_orientations, pixels_per_cell=hog_pixels_per_cell,\n",
    "                              cells_per_block=hog_cells_per_block, visualize=False,feature_vector=True)\n",
    "\n",
    "            \n",
    "            features = np.concatenate((hist_feature,spatial_features,hog_feature))\n",
    "    #             print(type(features),features.shape)\n",
    "    #             print(type(temp),temp.shape)\n",
    "    #             print(type(hist_feature),hist_feature.shape)\n",
    "            features = scaler.transform([features])\n",
    "            if clf.predict(features):\n",
    "                result.append(window)\n",
    "    return result\n",
    "\n",
    "def draw_windows(img,windows):\n",
    "    draw_img = np.copy(img)\n",
    "    for window in windows:\n",
    "        cv2.rectangle(draw_img, window[0],window[1], (0, 0, 255), 3)\n",
    "    return draw_img,windows"
   ]
  },
  {
   "cell_type": "code",
   "execution_count": 6,
   "id": "loving-contest",
   "metadata": {},
   "outputs": [],
   "source": [
    "def read_train_data(train_path='./benchmark_velocity_train/clips/'):\n",
    "    train_dirs = os.listdir(train_path)\n",
    "    # Delete '.DS_Store' file in macOS system\n",
    "    train_dirs = [i for i in train_dirs if i != '.DS_Store']\n",
    "    clips_folders = list(map(int, train_dirs))\n",
    "    clips_folders.sort()\n",
    "\n",
    "    annotated_imgs = []\n",
    "    for i in clips_folders:\n",
    "        imgs_path = train_path + str(i) + '/imgs'\n",
    "        for _, _, imgs in os.walk(imgs_path):\n",
    "            imgs.sort()\n",
    "            for img_name in imgs:\n",
    "                img_path = imgs_path + '/' + img_name\n",
    "                if '040' in img_name:\n",
    "                    annotated_imgs.append(img_path)\n",
    "\n",
    "    annotations = [os.path.join(train_path, str(x), 'annotation.json') for x in clips_folders]\n",
    "    annotation_list = VeloEval.load_annotation(annotations)\n",
    "    car_imgs=[]\n",
    "    nocars=[]\n",
    "    img_count = 0\n",
    "    coordinates = []\n",
    "    for anno in tqdm(annotation_list):\n",
    "        top = int(anno[0]['bbox'][:, 0][0])\n",
    "        left = int(anno[0]['bbox'][:, 1][0])\n",
    "        bottom = int(anno[0]['bbox'][:, 2][0])\n",
    "        right = int(anno[0]['bbox'][:, 3][0])\n",
    "        coordinates.append([(top - 32,bottom + 32),(left - 32,right + 32)])\n",
    "        img = cv2.imread(annotated_imgs[img_count])\n",
    "        img_resized = cv2.resize(img[top:bottom, left:right], (64, 64), interpolation=cv2.INTER_CUBIC)\n",
    "        car_imgs.append(img_resized)\n",
    "        img_count += 1\n",
    "    return car_imgs"
   ]
  },
  {
   "cell_type": "code",
   "execution_count": 7,
   "id": "chemical-castle",
   "metadata": {},
   "outputs": [],
   "source": [
    "def add_heat(heatmap, bbox_list):\n",
    "    # Iterate through list of bboxes\n",
    "    for box in bbox_list:\n",
    "        # Add += 1 for all pixels inside each bbox\n",
    "        # Assuming each \"box\" takes the form ((x1, y1), (x2, y2))\n",
    "        heatmap[box[0][1]:box[1][1], box[0][0]:box[1][0]] += 1\n",
    "    return heatmap\n",
    "def apply_threshold(heatmap, threshold):\n",
    "    # Zero out pixels below the threshold\n",
    "    heatmap[heatmap <= threshold] = 0\n",
    "    # Return thresholded map\n",
    "    return heatmap\n",
    "def draw_labeled_bboxes(img, labels):\n",
    "    # Iterate through all detected cars\n",
    "    for car_number in range(1, labels[1]+1):\n",
    "        # Find pixels with each car_number label value\n",
    "        nonzero = (labels[0] == car_number).nonzero()\n",
    "        # Identify x and y values of those pixels\n",
    "        nonzeroy = np.array(nonzero[0])\n",
    "        nonzerox = np.array(nonzero[1])\n",
    "        # Define a bounding box based on min/max x and y\n",
    "        bbox = ((np.min(nonzerox), np.min(nonzeroy)), (np.max(nonzerox), np.max(nonzeroy)))\n",
    "        # Draw the box on the image\n",
    "        cv2.rectangle(img, bbox[0], bbox[1], (0,0,255), 6)\n",
    "    # Return the image\n",
    "    plt.imshow(img)\n",
    "    return img"
   ]
  },
  {
   "cell_type": "code",
   "execution_count": 8,
   "id": "welsh-description",
   "metadata": {},
   "outputs": [],
   "source": [
    "# Taken from given source: TuSimple Competitions for CVPR2017 \n",
    "# https://github.com/TuSimple/tusimple-benchmark\n",
    "class VeloEval(object):\n",
    "    @staticmethod\n",
    "    def load_json_file(file_list):\n",
    "        data_list = []\n",
    "        for file_name in file_list:\n",
    "            with open(file_name) as f:\n",
    "                raw_data = json.load(f)\n",
    "            data_list.append(raw_data)\n",
    "        return data_list\n",
    "\n",
    "    @staticmethod\n",
    "    def transform_annotation(raw_data_list):\n",
    "        anno_list = []\n",
    "        for raw_data in raw_data_list:\n",
    "            data = []\n",
    "            for instance in raw_data:\n",
    "                instance[\"bbox\"] = np.array([[instance[\"bbox\"][\"top\"],\n",
    "                                              instance[\"bbox\"][\"left\"],\n",
    "                                              instance[\"bbox\"][\"bottom\"],\n",
    "                                              instance[\"bbox\"][\"right\"]]])\n",
    "                data.append(instance)\n",
    "            anno_list.append(data)\n",
    "        return anno_list\n",
    "\n",
    "    @staticmethod\n",
    "    def load_annotation(file_list):\n",
    "        raw_data_list = VeloEval.load_json_file(file_list)\n",
    "        anno_list = VeloEval.transform_annotation(raw_data_list)\n",
    "        print(\"Finished loading {0:d} annotations.\".format(len(anno_list)))\n",
    "        return anno_list"
   ]
  },
  {
   "cell_type": "code",
   "execution_count": 9,
   "id": "organic-destiny",
   "metadata": {
    "scrolled": true
   },
   "outputs": [
    {
     "name": "stderr",
     "output_type": "stream",
     "text": [
      "  1%|          | 8/1074 [00:00<00:13, 78.89it/s]"
     ]
    },
    {
     "name": "stdout",
     "output_type": "stream",
     "text": [
      "Finished loading 1074 annotations.\n"
     ]
    },
    {
     "name": "stderr",
     "output_type": "stream",
     "text": [
      "100%|██████████| 1074/1074 [00:11<00:00, 92.89it/s]\n",
      "100%|██████████| 5067/5067 [01:03<00:00, 80.24it/s]"
     ]
    },
    {
     "name": "stdout",
     "output_type": "stream",
     "text": [
      "30140 87327\n"
     ]
    },
    {
     "name": "stderr",
     "output_type": "stream",
     "text": [
      "\n"
     ]
    }
   ],
   "source": [
    "train_cars = read_train_data()\n",
    "img, cars, nocars = retrive_data(noncar_size=15)\n",
    "cars.extend(train_cars)\n",
    "#nocars.extend(train_nocars)\n",
    "print(len(cars),len(nocars))"
   ]
  },
  {
   "cell_type": "code",
   "execution_count": null,
   "id": "amateur-prairie",
   "metadata": {},
   "outputs": [],
   "source": [
    "# feature extraction parameters\n",
    "hist_bins = 32\n",
    "spatial_size = (16,16)\n",
    "hog_orientations = 9\n",
    "hog_pixels_per_cell = (8, 8)\n",
    "hog_cells_per_block = (1, 1)\n",
    "\n",
    "# extract features\n",
    "car_features = retrive_features(cars, hist_bins, spatial_size, hog_orientations, hog_pixels_per_cell, hog_cells_per_block)\n",
    "nocars_features = retrive_features(nocars,hist_bins, spatial_size, hog_orientations, hog_pixels_per_cell, hog_cells_per_block)"
   ]
  },
  {
   "cell_type": "code",
   "execution_count": null,
   "id": "incorrect-calculation",
   "metadata": {},
   "outputs": [],
   "source": [
    "random_state = 1\n",
    "\n",
    "# train the features\n",
    "clf,scaler = train(car_features, nocars_features, random_state)"
   ]
  },
  {
   "cell_type": "code",
   "execution_count": null,
   "id": "monthly-moldova",
   "metadata": {},
   "outputs": [],
   "source": [
    "#train_imgs, annotations = read_train_data()"
   ]
  },
  {
   "cell_type": "code",
   "execution_count": null,
   "id": "physical-amplifier",
   "metadata": {},
   "outputs": [],
   "source": [
    "# Single image car detect\n",
    "overlap = 0.8\n",
    "window_size= (64, 64)\n",
    "single_sup_img = copy(img[14])\n",
    "single_train_img = cv2.imread(\"./benchmark_velocity_test/clips/7/imgs/040.jpg\")\n",
    "windows = search(single_train_img,slide_window(single_train_img, window_size,overlap),clf,scaler,hist_bins, spatial_size, hog_orientations, hog_pixels_per_cell, hog_cells_per_block)\n",
    "draw_img,windows = draw_windows(single_train_img,windows)\n",
    "plt.imshow(draw_img)"
   ]
  },
  {
   "cell_type": "code",
   "execution_count": null,
   "id": "innovative-insider",
   "metadata": {},
   "outputs": [],
   "source": [
    "heat_map = np.zeros(single_train_img.shape[:2])\n",
    "heat_map = add_heat(heat_map,windows)\n",
    "heat_map_thresholded = apply_threshold(heat_map,1)\n",
    "labels = label(heat_map_thresholded)\n",
    "draw_img = draw_labeled_bboxes(single_train_img,labels)\n",
    "#plt.imshow(heat_map)\n",
    "print(labels)\n",
    "#plt.imshow(draw_img)"
   ]
  },
  {
   "cell_type": "code",
   "execution_count": 263,
   "id": "combined-particle",
   "metadata": {},
   "outputs": [
    {
     "data": {
      "text/plain": [
       "<matplotlib.image.AxesImage at 0x7f94ff7c40d0>"
      ]
     },
     "execution_count": 263,
     "metadata": {},
     "output_type": "execute_result"
    },
    {
     "data": {
      "image/png": "[encoded data removed]",
      "text/plain": [
       "<Figure size 432x288 with 1 Axes>"
      ]
     },
     "metadata": {
      "needs_background": "light"
     },
     "output_type": "display_data"
    }
   ],
   "source": [
    "plt.imshow(heat_map)"
   ]
  },
  {
   "cell_type": "code",
   "execution_count": null,
   "id": "hazardous-commodity",
   "metadata": {},
   "outputs": [],
   "source": []
  }
 ],
 "metadata": {
  "kernelspec": {
   "display_name": "Python [conda env:COMP9517]",
   "language": "python",
   "name": "conda-env-COMP9517-py"
  },
  "language_info": {
   "codemirror_mode": {
    "name": "ipython",
    "version": 3
   },
   "file_extension": ".py",
   "mimetype": "text/x-python",
   "name": "python",
   "nbconvert_exporter": "python",
   "pygments_lexer": "ipython3",
   "version": "3.7.10"
  }
 },
 "nbformat": 4,
 "nbformat_minor": 5
}
